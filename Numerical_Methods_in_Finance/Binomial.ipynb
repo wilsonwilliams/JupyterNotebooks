{
 "cells": [
  {
   "cell_type": "markdown",
   "id": "f0250a1c",
   "metadata": {},
   "source": [
    "### The beginning of this notebook is for American options, the end for Down-and-Out"
   ]
  },
  {
   "cell_type": "code",
   "execution_count": 1,
   "id": "666def97",
   "metadata": {},
   "outputs": [],
   "source": [
    "import numpy as np"
   ]
  },
  {
   "cell_type": "code",
   "execution_count": 2,
   "id": "cdc5b075",
   "metadata": {},
   "outputs": [],
   "source": [
    "S = 100\n",
    "K = 100\n",
    "T = 1.0\n",
    "r = 0.05\n",
    "sigma = 0.3\n",
    "N = 252"
   ]
  },
  {
   "cell_type": "code",
   "execution_count": 3,
   "id": "71f65094",
   "metadata": {},
   "outputs": [],
   "source": [
    "dt = T / N\n",
    "u = np.exp(sigma * np.sqrt(dt))\n",
    "d = 1 / u\n",
    "p = (np.exp(r * dt) - d) / (u - d)\n",
    "discount = np.exp(-r * dt)"
   ]
  },
  {
   "cell_type": "code",
   "execution_count": 4,
   "id": "87266f65",
   "metadata": {},
   "outputs": [
    {
     "data": {
      "text/plain": [
       "(253, 253)"
      ]
     },
     "execution_count": 4,
     "metadata": {},
     "output_type": "execute_result"
    }
   ],
   "source": [
    "asset_tree = np.zeros((N+1, N+1))\n",
    "asset_tree.shape"
   ]
  },
  {
   "cell_type": "code",
   "execution_count": 5,
   "id": "bf61dd01",
   "metadata": {},
   "outputs": [],
   "source": [
    "asset_tree[0][0] = S\n",
    "# i is the column and j is the row\n",
    "# build the tree top to bottom from upper left to bottom right\n",
    "for i in range(1, asset_tree.shape[0]):\n",
    "    for j in range(i+1):\n",
    "        if j == 0:\n",
    "            asset_tree[i][j] = asset_tree[i-1][j] * d\n",
    "        else:\n",
    "            asset_tree[i][j] = asset_tree[i-1][j-1] * u"
   ]
  },
  {
   "cell_type": "code",
   "execution_count": 6,
   "id": "bfbd17f8",
   "metadata": {},
   "outputs": [
    {
     "data": {
      "text/plain": [
       "array([[1.00000000e+02, 0.00000000e+00, 0.00000000e+00, ...,\n",
       "        0.00000000e+00, 0.00000000e+00, 0.00000000e+00],\n",
       "       [9.81279228e+01, 1.01907793e+02, 0.00000000e+00, ...,\n",
       "        0.00000000e+00, 0.00000000e+00, 0.00000000e+00],\n",
       "       [9.62908924e+01, 1.00000000e+02, 1.03851982e+02, ...,\n",
       "        0.00000000e+00, 0.00000000e+00, 0.00000000e+00],\n",
       "       ...,\n",
       "       [8.87465416e-01, 9.21650422e-01, 9.57152228e-01, ...,\n",
       "        1.12680447e+04, 0.00000000e+00, 0.00000000e+00],\n",
       "       [8.70851378e-01, 9.04396415e-01, 9.39233600e-01, ...,\n",
       "        1.10570982e+04, 1.14830156e+04, 0.00000000e+00],\n",
       "       [8.54548368e-01, 8.87465416e-01, 9.21650422e-01, ...,\n",
       "        1.08501008e+04, 1.12680447e+04, 1.17020878e+04]])"
      ]
     },
     "execution_count": 6,
     "metadata": {},
     "output_type": "execute_result"
    }
   ],
   "source": [
    "asset_tree"
   ]
  },
  {
   "cell_type": "code",
   "execution_count": 7,
   "id": "3c102dd3",
   "metadata": {},
   "outputs": [],
   "source": [
    "def put_payoff(S, K):\n",
    "    return np.maximum(K - S, 0)"
   ]
  },
  {
   "cell_type": "code",
   "execution_count": 8,
   "id": "357654d6",
   "metadata": {},
   "outputs": [
    {
     "data": {
      "text/plain": [
       "array([99.14545163, 99.11253458, 99.07834958, 99.04284777, 99.00597844,\n",
       "       98.96768891, 98.92792448, 98.88662832, 98.84374145, 98.79920258,\n",
       "       98.75294808, 98.70491187, 98.65502531, 98.60321713, 98.54941331,\n",
       "       98.49353698, 98.43550829, 98.37524436, 98.31265907, 98.247663  ,\n",
       "       98.1801633 , 98.11006352, 98.03726351, 97.96165926, 97.88314275,\n",
       "       97.80160179, 97.71691989, 97.62897606, 97.53764465, 97.44279517,\n",
       "       97.34429211, 97.24199472, 97.13575686, 97.02542674, 96.91084672,\n",
       "       96.7918531 , 96.66827586, 96.53993846, 96.40665752, 96.26824262,\n",
       "       96.124496  , 95.97521229, 95.82017821, 95.65917223, 95.49196434,\n",
       "       95.31831562, 95.13797799, 94.95069379, 94.75619544, 94.55420504,\n",
       "       94.34443401, 94.12658264, 93.90033967, 93.66538187, 93.42137353,\n",
       "       93.16796604, 92.90479733, 92.63149142, 92.34765781, 92.05289098,\n",
       "       91.74676979, 91.42885687, 91.098698  , 90.75582146, 90.39973739,\n",
       "       90.02993702, 89.64589201, 89.24705366, 88.83285212, 88.40269562,\n",
       "       87.95596957, 87.49203571, 87.01023121, 86.50986768, 85.99023024,\n",
       "       85.45057646, 84.89013531, 84.30810608, 83.70365718, 83.07592503,\n",
       "       82.42401274, 81.74698891, 81.04388625, 80.3137002 , 79.55538752,\n",
       "       78.76786477, 77.95000679, 77.10064507, 76.21856609, 75.30250958,\n",
       "       74.35116675, 73.36317837, 72.33713285, 71.27156425, 70.16495013,\n",
       "       69.01570945, 67.82220022, 66.58271723, 65.29548959, 63.95867817,\n",
       "       62.57037302, 61.1285906 , 59.63127099, 58.0762749 , 56.46138065,\n",
       "       54.78428096, 53.0425797 , 51.23378843, 49.35532284, 47.4044991 ,\n",
       "       45.37852999, 43.27452091, 41.08946579, 38.82024274, 36.46360963,\n",
       "       34.01619945, 31.47451547, 28.83492629, 26.09366061, 23.24680188,\n",
       "       20.29028267, 17.21987888, 14.03120369, 10.71970132,  7.28064047,\n",
       "        3.70910763,  0.        ,  0.        ,  0.        ,  0.        ,\n",
       "        0.        ,  0.        ,  0.        ,  0.        ,  0.        ,\n",
       "        0.        ,  0.        ,  0.        ,  0.        ,  0.        ,\n",
       "        0.        ,  0.        ,  0.        ,  0.        ,  0.        ,\n",
       "        0.        ,  0.        ,  0.        ,  0.        ,  0.        ,\n",
       "        0.        ,  0.        ,  0.        ,  0.        ,  0.        ,\n",
       "        0.        ,  0.        ,  0.        ,  0.        ,  0.        ,\n",
       "        0.        ,  0.        ,  0.        ,  0.        ,  0.        ,\n",
       "        0.        ,  0.        ,  0.        ,  0.        ,  0.        ,\n",
       "        0.        ,  0.        ,  0.        ,  0.        ,  0.        ,\n",
       "        0.        ,  0.        ,  0.        ,  0.        ,  0.        ,\n",
       "        0.        ,  0.        ,  0.        ,  0.        ,  0.        ,\n",
       "        0.        ,  0.        ,  0.        ,  0.        ,  0.        ,\n",
       "        0.        ,  0.        ,  0.        ,  0.        ,  0.        ,\n",
       "        0.        ,  0.        ,  0.        ,  0.        ,  0.        ,\n",
       "        0.        ,  0.        ,  0.        ,  0.        ,  0.        ,\n",
       "        0.        ,  0.        ,  0.        ,  0.        ,  0.        ,\n",
       "        0.        ,  0.        ,  0.        ,  0.        ,  0.        ,\n",
       "        0.        ,  0.        ,  0.        ,  0.        ,  0.        ,\n",
       "        0.        ,  0.        ,  0.        ,  0.        ,  0.        ,\n",
       "        0.        ,  0.        ,  0.        ,  0.        ,  0.        ,\n",
       "        0.        ,  0.        ,  0.        ,  0.        ,  0.        ,\n",
       "        0.        ,  0.        ,  0.        ,  0.        ,  0.        ,\n",
       "        0.        ,  0.        ,  0.        ,  0.        ,  0.        ,\n",
       "        0.        ,  0.        ,  0.        ,  0.        ,  0.        ,\n",
       "        0.        ,  0.        ,  0.        ])"
      ]
     },
     "execution_count": 8,
     "metadata": {},
     "output_type": "execute_result"
    }
   ],
   "source": [
    "american_put_payoff_tree = np.zeros((N+1, N+1))\n",
    "american_put_payoff_tree[-1, :] = put_payoff(asset_tree[-1, :], K)\n",
    "american_put_payoff_tree[-1, :]"
   ]
  },
  {
   "cell_type": "code",
   "execution_count": 9,
   "id": "178cfb53",
   "metadata": {},
   "outputs": [],
   "source": [
    "for i in range(N, 0, -1):\n",
    "    for j in range(i):\n",
    "        american_put_payoff_tree[i-1][j] = np.maximum(put_payoff(asset_tree[i-1][j], K), discount * (p * american_put_payoff_tree[i][j+1] + (1 - p) * american_put_payoff_tree[i][j]))"
   ]
  },
  {
   "cell_type": "code",
   "execution_count": 10,
   "id": "c883db30",
   "metadata": {},
   "outputs": [
    {
     "data": {
      "text/plain": [
       "9.864629842195766"
      ]
     },
     "execution_count": 10,
     "metadata": {},
     "output_type": "execute_result"
    }
   ],
   "source": [
    "american_put_payoff_tree[0][0]"
   ]
  },
  {
   "cell_type": "markdown",
   "id": "867b911f",
   "metadata": {},
   "source": [
    "### The following is for the Down-and-Out European Exotic option"
   ]
  },
  {
   "cell_type": "code",
   "execution_count": null,
   "id": "78ad5896",
   "metadata": {},
   "outputs": [],
   "source": []
  }
 ],
 "metadata": {
  "kernelspec": {
   "display_name": "py311",
   "language": "python",
   "name": "python3"
  },
  "language_info": {
   "codemirror_mode": {
    "name": "ipython",
    "version": 3
   },
   "file_extension": ".py",
   "mimetype": "text/x-python",
   "name": "python",
   "nbconvert_exporter": "python",
   "pygments_lexer": "ipython3",
   "version": "3.11.8"
  }
 },
 "nbformat": 4,
 "nbformat_minor": 5
}
