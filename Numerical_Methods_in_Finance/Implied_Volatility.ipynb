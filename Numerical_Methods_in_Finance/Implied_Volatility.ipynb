{
 "cells": [
  {
   "cell_type": "code",
   "execution_count": 1,
   "id": "95197911",
   "metadata": {},
   "outputs": [],
   "source": [
    "import numpy as np\n",
    "from scipy.stats import norm"
   ]
  },
  {
   "cell_type": "code",
   "execution_count": 2,
   "id": "aeb6ae2d",
   "metadata": {},
   "outputs": [],
   "source": [
    "def black_scholes_call(S, K, T, r, sigma):\n",
    "    d1 = (np.log(S/K) + (r + 0.5 * sigma**2) * T) / (sigma * np.sqrt(T))\n",
    "    d2 = d1 - sigma * np.sqrt(T)\n",
    "    return S * norm.cdf(d1) - K * np.exp(-r * T) * norm.cdf(d2)"
   ]
  },
  {
   "cell_type": "code",
   "execution_count": 3,
   "id": "7f195d87",
   "metadata": {},
   "outputs": [],
   "source": [
    "def vega(S, K, T, r, sigma):\n",
    "    d1 = (np.log(S/K) + (r + 0.5 * sigma**2) * T) / (sigma * np.sqrt(T))\n",
    "    return S * norm.pdf(d1) * np.sqrt(T)"
   ]
  },
  {
   "cell_type": "code",
   "execution_count": 4,
   "id": "2db7174d",
   "metadata": {},
   "outputs": [],
   "source": [
    "def bisection(S, K, T, r, C_market):\n",
    "    left = 0.001\n",
    "    right = 1_000\n",
    "\n",
    "    for _ in range(15):\n",
    "        sigma = 0.5 * (left + right)\n",
    "        c_new = black_scholes_call(S, K, T, r, sigma)\n",
    "        if c_new < C_market:\n",
    "            left = sigma\n",
    "        if c_new > C_market:\n",
    "            right = sigma\n",
    "    \n",
    "    return sigma"
   ]
  },
  {
   "cell_type": "code",
   "execution_count": 5,
   "id": "17cfcd0e",
   "metadata": {},
   "outputs": [],
   "source": [
    "def newton(S, K, T, r, C_market, initial_guess, tol=1e-6, max_iters=10):\n",
    "    sigma = initial_guess\n",
    "    for i in range(max_iters):\n",
    "        c_new = black_scholes_call(S, K, T, r, sigma)\n",
    "        v = vega(S, K, T, r, sigma)\n",
    "        diff = c_new - C_market\n",
    "        if abs(diff) < tol:\n",
    "            return sigma, i+1\n",
    "        if v < 1e-8:\n",
    "            return sigma, i+1\n",
    "        sigma -= diff / v\n",
    "    return -1, max_iters"
   ]
  },
  {
   "cell_type": "code",
   "execution_count": 6,
   "id": "719e9078",
   "metadata": {},
   "outputs": [],
   "source": [
    "S = 105\n",
    "K = 100\n",
    "T = 0.25\n",
    "r = 0.05\n",
    "C_market = 10"
   ]
  },
  {
   "cell_type": "code",
   "execution_count": 7,
   "id": "00854956",
   "metadata": {},
   "outputs": [
    {
     "data": {
      "text/plain": [
       "0.3366930236816406"
      ]
     },
     "execution_count": 7,
     "metadata": {},
     "output_type": "execute_result"
    }
   ],
   "source": [
    "initial_guess = bisection(S, K, T, r, C_market)\n",
    "initial_guess"
   ]
  },
  {
   "cell_type": "code",
   "execution_count": 8,
   "id": "9b4f1ce2",
   "metadata": {},
   "outputs": [
    {
     "data": {
      "text/plain": [
       "(0.3153784095894166, 3)"
      ]
     },
     "execution_count": 8,
     "metadata": {},
     "output_type": "execute_result"
    }
   ],
   "source": [
    "implied_volatility, iters = newton(S, K, T, r, C_market, initial_guess)\n",
    "implied_volatility, iters"
   ]
  }
 ],
 "metadata": {
  "kernelspec": {
   "display_name": "Python 3",
   "language": "python",
   "name": "python3"
  },
  "language_info": {
   "codemirror_mode": {
    "name": "ipython",
    "version": 3
   },
   "file_extension": ".py",
   "mimetype": "text/x-python",
   "name": "python",
   "nbconvert_exporter": "python",
   "pygments_lexer": "ipython3",
   "version": "3.11.12"
  }
 },
 "nbformat": 4,
 "nbformat_minor": 5
}
